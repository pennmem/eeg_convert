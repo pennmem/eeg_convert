{
 "cells": [
  {
   "cell_type": "code",
   "execution_count": 1,
   "metadata": {},
   "outputs": [
    {
     "name": "stderr",
     "output_type": "stream",
     "text": [
      "/Users/depalati/miniconda3/lib/python3.6/site-packages/h5py/__init__.py:36: FutureWarning: Conversion of the second argument of issubdtype from `float` to `np.floating` is deprecated. In future, it will be treated as `np.float64 == np.dtype(float).type`.\n",
      "  from ._conv import register_converters as _register_converters\n"
     ]
    }
   ],
   "source": [
    "from pathlib import Path\n",
    "import h5py\n",
    "import numpy as np\n",
    "import tables  # enables reading BLOSC compression"
   ]
  },
  {
   "cell_type": "code",
   "execution_count": 2,
   "metadata": {},
   "outputs": [],
   "source": [
    "def load_split_eeg(root: Path) -> np.ndarray:\n",
    "    \"\"\"Load a full session of split EEG data.\n",
    "    \n",
    "    :param root: rhino root path\n",
    "    :returns: full session EEG data\n",
    "    \n",
    "    \"\"\"\n",
    "    path = root.joinpath(\"protocols\", \"r1\",\n",
    "                         \"subjects\", \"R1111M\",\n",
    "                         \"experiments\", \"FR1\",\n",
    "                         \"sessions\", \"0\",\n",
    "                         \"ephys\", \"current_processed\", \"noreref\")\n",
    "    files = sorted(path.glob(\"*\"))\n",
    "    return np.array([np.fromfile(str(infile), dtype=\"int16\") for infile in files])"
   ]
  },
  {
   "cell_type": "code",
   "execution_count": 3,
   "metadata": {},
   "outputs": [],
   "source": [
    "def load_hdf5_eeg(path: Path) -> np.ndarray:\n",
    "    \"\"\"Load a full session of HDF5 EEG data.\n",
    "    \n",
    "    :param path: path to HDF5 file\n",
    "    :returns: full session EEG data\n",
    "    \n",
    "    \"\"\"\n",
    "    with h5py.File(str(path), \"r\") as hfile:\n",
    "        return hfile[\"eeg\"][0, ...]"
   ]
  },
  {
   "cell_type": "code",
   "execution_count": 4,
   "metadata": {},
   "outputs": [
    {
     "name": "stdout",
     "output_type": "stream",
     "text": [
      "450 ms ± 1.15 ms per loop (mean ± std. dev. of 7 runs, 1 loop each)\n"
     ]
    }
   ],
   "source": [
    "%%timeit\n",
    "data = load_split_eeg(Path(\"/Users/depalati/mnt/rhino\"))"
   ]
  },
  {
   "cell_type": "code",
   "execution_count": 5,
   "metadata": {},
   "outputs": [
    {
     "name": "stdout",
     "output_type": "stream",
     "text": [
      "1.79 s ± 9.88 ms per loop (mean ± std. dev. of 7 runs, 1 loop each)\n"
     ]
    }
   ],
   "source": [
    "%%timeit\n",
    "# GZIP compression level 9, shuffle not set\n",
    "data = load_hdf5_eeg(Path(\"/Users/depalati/rhino_home/scratch/eeg_timeseries_gzip_9.h5\"))"
   ]
  },
  {
   "cell_type": "code",
   "execution_count": 6,
   "metadata": {},
   "outputs": [
    {
     "name": "stdout",
     "output_type": "stream",
     "text": [
      "1.3 s ± 23.4 ms per loop (mean ± std. dev. of 7 runs, 1 loop each)\n"
     ]
    }
   ],
   "source": [
    "%%timeit\n",
    "# GZIP compression level 9, shuffle=True\n",
    "data = load_hdf5_eeg(Path(\"/Users/depalati/rhino_home/scratch/eeg_timeseries_gzip_9_shuffle.h5\"))"
   ]
  },
  {
   "cell_type": "code",
   "execution_count": 7,
   "metadata": {},
   "outputs": [
    {
     "name": "stdout",
     "output_type": "stream",
     "text": [
      "367 ms ± 12.1 ms per loop (mean ± std. dev. of 7 runs, 1 loop each)\n"
     ]
    }
   ],
   "source": [
    "%%timeit\n",
    "# BLOSC compression (requires PyTables)\n",
    "data = load_hdf5_eeg(Path(\"/Users/depalati/rhino_home/scratch/eeg_timeseries_blosc.h5\"))"
   ]
  },
  {
   "cell_type": "code",
   "execution_count": 8,
   "metadata": {},
   "outputs": [
    {
     "name": "stdout",
     "output_type": "stream",
     "text": [
      "293 ms ± 7.96 ms per loop (mean ± std. dev. of 7 runs, 1 loop each)\n"
     ]
    }
   ],
   "source": [
    "%%timeit\n",
    "# no compression\n",
    "data = load_hdf5_eeg(Path(\"/Users/depalati/rhino_home/scratch/eeg_timeseries_no_compression.h5\"))"
   ]
  },
  {
   "cell_type": "code",
   "execution_count": null,
   "metadata": {},
   "outputs": [],
   "source": []
  }
 ],
 "metadata": {
  "kernelspec": {
   "display_name": "Python [default]",
   "language": "python",
   "name": "python3"
  },
  "language_info": {
   "codemirror_mode": {
    "name": "ipython",
    "version": 3
   },
   "file_extension": ".py",
   "mimetype": "text/x-python",
   "name": "python",
   "nbconvert_exporter": "python",
   "pygments_lexer": "ipython3",
   "version": "3.6.4"
  }
 },
 "nbformat": 4,
 "nbformat_minor": 2
}
